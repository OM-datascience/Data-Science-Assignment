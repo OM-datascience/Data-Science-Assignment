{
  "cells": [
    {
      "cell_type": "markdown",
      "source": [
        "**Q1. Creating one variable containing following type of data:**\n",
        "\n",
        "1.   string\n",
        "\n",
        "1.   list\n",
        "2.   float\n",
        "\n",
        "\n",
        "2.   tuple\n",
        "\n"
      ],
      "metadata": {
        "id": "oRWmf6zjGhnU"
      }
    },
    {
      "cell_type": "code",
      "source": [
        "#variable for string\n",
        "o = \"om\""
      ],
      "metadata": {
        "id": "_Kp3Fampkewy"
      },
      "execution_count": 6,
      "outputs": []
    },
    {
      "cell_type": "code",
      "source": [
        "#checking data type for o\n",
        "type(o)"
      ],
      "metadata": {
        "colab": {
          "base_uri": "https://localhost:8080/"
        },
        "id": "J-0LcvKGqTfJ",
        "outputId": "1b6a8343-5f4a-4a00-ef0f-2315435d0152"
      },
      "execution_count": 7,
      "outputs": [
        {
          "output_type": "execute_result",
          "data": {
            "text/plain": [
              "str"
            ]
          },
          "metadata": {},
          "execution_count": 7
        }
      ]
    },
    {
      "cell_type": "code",
      "source": [
        "#variable for list\n",
        "a = [1,2,3,4,6,6, \"apple\", \"manzana\", 34.45, True, 4+5j]"
      ],
      "metadata": {
        "id": "8m70cewfqTjN"
      },
      "execution_count": 8,
      "outputs": []
    },
    {
      "cell_type": "code",
      "source": [
        "#checking data type for a\n",
        "type(a)"
      ],
      "metadata": {
        "id": "4Z78tx6IqTmI",
        "colab": {
          "base_uri": "https://localhost:8080/"
        },
        "outputId": "bc3b8cdc-69d4-476d-905a-c85ef0359b49"
      },
      "execution_count": 9,
      "outputs": [
        {
          "output_type": "execute_result",
          "data": {
            "text/plain": [
              "list"
            ]
          },
          "metadata": {},
          "execution_count": 9
        }
      ]
    },
    {
      "cell_type": "code",
      "source": [
        "#variable for float\n",
        "b = 56.75"
      ],
      "metadata": {
        "id": "0M3NgWxoqTof"
      },
      "execution_count": 10,
      "outputs": []
    },
    {
      "cell_type": "code",
      "source": [
        "#checking data type for b\n",
        "type(b)"
      ],
      "metadata": {
        "id": "6io_RfMAqTrL",
        "colab": {
          "base_uri": "https://localhost:8080/"
        },
        "outputId": "41eab61f-2ece-4283-b490-87fdc9674a14"
      },
      "execution_count": 11,
      "outputs": [
        {
          "output_type": "execute_result",
          "data": {
            "text/plain": [
              "float"
            ]
          },
          "metadata": {},
          "execution_count": 11
        }
      ]
    },
    {
      "cell_type": "code",
      "source": [
        "#variable for tuple\n",
        "c = (1,2,3,4,5,5, \"WATER\", \"SKILLS\", 34.45, False, 7+4j)"
      ],
      "metadata": {
        "id": "kuQscoJ8qTtb"
      },
      "execution_count": 12,
      "outputs": []
    },
    {
      "cell_type": "code",
      "source": [
        "#checking data type for c\n",
        "type(c)\n"
      ],
      "metadata": {
        "id": "kJp0H-HqqTyu",
        "colab": {
          "base_uri": "https://localhost:8080/"
        },
        "outputId": "b0c08b8d-b1c4-4e03-f428-26b2008b3d58"
      },
      "execution_count": 13,
      "outputs": [
        {
          "output_type": "execute_result",
          "data": {
            "text/plain": [
              "tuple"
            ]
          },
          "metadata": {},
          "execution_count": 13
        }
      ]
    },
    {
      "cell_type": "markdown",
      "source": [
        "2. **finding the data type of the  given variable:**\n",
        "\n",
        "1.   var1 = ' '\n",
        "\n",
        "1.   var2 = '[ DS , ML , Python]'\n",
        "2.   var3 = [ 'DS' , 'ML' , 'Python' ]\n",
        "\n",
        "\n",
        "2.   var4 = 1\n"
      ],
      "metadata": {
        "id": "PMI-PIceHGIR"
      }
    },
    {
      "cell_type": "code",
      "source": [
        "var1 = ' '"
      ],
      "metadata": {
        "id": "VXs6cWG_2MNK"
      },
      "execution_count": 14,
      "outputs": []
    },
    {
      "cell_type": "code",
      "source": [
        "#checking data type for var1\n",
        "type(var1)"
      ],
      "metadata": {
        "id": "DvLia1_-qT1n",
        "colab": {
          "base_uri": "https://localhost:8080/"
        },
        "outputId": "f971db9a-3552-4f6b-cfa1-aaa6d26ca120"
      },
      "execution_count": 15,
      "outputs": [
        {
          "output_type": "execute_result",
          "data": {
            "text/plain": [
              "str"
            ]
          },
          "metadata": {},
          "execution_count": 15
        }
      ]
    },
    {
      "cell_type": "code",
      "source": [
        "var2 = '[ DS , ML , Python]'"
      ],
      "metadata": {
        "id": "nNXZei5u2Wpu"
      },
      "execution_count": 16,
      "outputs": []
    },
    {
      "cell_type": "code",
      "source": [
        "#checking data type for var2\n",
        "type(var2)"
      ],
      "metadata": {
        "id": "3HTDedpLqT42",
        "colab": {
          "base_uri": "https://localhost:8080/"
        },
        "outputId": "a860a98e-bc3b-43ab-869c-aaad0cc22c69"
      },
      "execution_count": 17,
      "outputs": [
        {
          "output_type": "execute_result",
          "data": {
            "text/plain": [
              "str"
            ]
          },
          "metadata": {},
          "execution_count": 17
        }
      ]
    },
    {
      "cell_type": "code",
      "source": [
        "var3 = [ 'DS' , 'ML' , 'Python' ]"
      ],
      "metadata": {
        "id": "fBmuQZ5N2iVI"
      },
      "execution_count": 18,
      "outputs": []
    },
    {
      "cell_type": "code",
      "source": [
        "#checking data type for var3\n",
        "type(var3)"
      ],
      "metadata": {
        "id": "oi1W3wTvqT6n",
        "colab": {
          "base_uri": "https://localhost:8080/"
        },
        "outputId": "2a9f91a5-24d6-4fcd-b5a0-d01d6ef220e1"
      },
      "execution_count": 19,
      "outputs": [
        {
          "output_type": "execute_result",
          "data": {
            "text/plain": [
              "list"
            ]
          },
          "metadata": {},
          "execution_count": 19
        }
      ]
    },
    {
      "cell_type": "code",
      "source": [
        "var4 = 1"
      ],
      "metadata": {
        "id": "DWD49z-G2--W"
      },
      "execution_count": 20,
      "outputs": []
    },
    {
      "cell_type": "code",
      "source": [
        "#checking data type for var4\n",
        "type(var4)"
      ],
      "metadata": {
        "id": "muU4yY8IqT8r",
        "colab": {
          "base_uri": "https://localhost:8080/"
        },
        "outputId": "406a8c60-db1d-4a8b-f8e9-2e92ad995f5a"
      },
      "execution_count": 21,
      "outputs": [
        {
          "output_type": "execute_result",
          "data": {
            "text/plain": [
              "int"
            ]
          },
          "metadata": {},
          "execution_count": 21
        }
      ]
    },
    {
      "cell_type": "markdown",
      "source": [
        "**3. Explaining the use of the following operators using an example:**\n",
        "\n",
        "1.  /\n",
        "\n",
        "1.   %\n",
        "\n",
        "1.   //\n",
        "2.   **\n",
        "\n",
        "\n"
      ],
      "metadata": {
        "id": "2TNxLBTOID-F"
      }
    },
    {
      "cell_type": "code",
      "source": [
        "\"\"\" The division operator (/) is used to divide one number by another.\n",
        "It returns the quotient as a floating-point number.\n",
        "Example for / (Division operator):\"\"\"\n",
        "x = 10\n",
        "y = 3\n",
        "x/y"
      ],
      "metadata": {
        "colab": {
          "base_uri": "https://localhost:8080/"
        },
        "id": "QeMyTlgC6WkS",
        "outputId": "8480af6a-09ad-411f-bea8-348f23eab0d2"
      },
      "execution_count": 22,
      "outputs": [
        {
          "output_type": "execute_result",
          "data": {
            "text/plain": [
              "3.3333333333333335"
            ]
          },
          "metadata": {},
          "execution_count": 22
        }
      ]
    },
    {
      "cell_type": "code",
      "source": [
        "\"\"\" The modulo operator (%) returns the remainder of a division.\n",
        "Example for % (Modulo operator):\"\"\"\n",
        "x = 10\n",
        "y = 5\n",
        "x%y"
      ],
      "metadata": {
        "id": "gQrtK_B56af9",
        "colab": {
          "base_uri": "https://localhost:8080/"
        },
        "outputId": "ece3622e-a623-4aee-c127-925e04a619a1"
      },
      "execution_count": 23,
      "outputs": [
        {
          "output_type": "execute_result",
          "data": {
            "text/plain": [
              "0"
            ]
          },
          "metadata": {},
          "execution_count": 23
        }
      ]
    },
    {
      "cell_type": "code",
      "source": [
        "\"\"\" The floor division operator (//) divides one number by another and\n",
        "returns the largest integer less than or equal to the result.\n",
        "Example for // (Floor Division operator):\"\"\"\n",
        "x = 10\n",
        "y = 3\n",
        "x//y"
      ],
      "metadata": {
        "id": "U0JSSSdr6aqv",
        "colab": {
          "base_uri": "https://localhost:8080/"
        },
        "outputId": "acf2a659-d6c1-4245-9e63-95f3f01ee53e"
      },
      "execution_count": 24,
      "outputs": [
        {
          "output_type": "execute_result",
          "data": {
            "text/plain": [
              "3"
            ]
          },
          "metadata": {},
          "execution_count": 24
        }
      ]
    },
    {
      "cell_type": "code",
      "source": [
        "\"\"\" The exponentiation operator (**) raises the first number to the power\n",
        "of the second number.\n",
        "Example for ** (Exponentiation operator):\"\"\"\n",
        "x = 7\n",
        "y = 2\n",
        "x**y"
      ],
      "metadata": {
        "colab": {
          "base_uri": "https://localhost:8080/"
        },
        "id": "Z6tIfMS1fZUu",
        "outputId": "5ecc8754-f708-46c6-eb22-d666958ef7f8"
      },
      "execution_count": 25,
      "outputs": [
        {
          "output_type": "execute_result",
          "data": {
            "text/plain": [
              "49"
            ]
          },
          "metadata": {},
          "execution_count": 25
        }
      ]
    },
    {
      "cell_type": "markdown",
      "source": [
        "**4. Creating a list of length 10 , containing multiple types of data. Using for loop print the\n",
        "element and its data type.**"
      ],
      "metadata": {
        "id": "WmTyFK98fBFL"
      }
    },
    {
      "cell_type": "code",
      "source": [
        "#list of length 10\n",
        "x = [1, \"hello\", 3.14, (1, 2), [3, 4], True, 7.35 , 4+7j,  100, \"world\"]\n",
        "#using for loop to print the element and its data type\n",
        "for i in x:\n",
        "    print (i)\n",
        "    print (type(i))"
      ],
      "metadata": {
        "colab": {
          "base_uri": "https://localhost:8080/"
        },
        "id": "w0AKW3ZovOTZ",
        "outputId": "9aa76552-4a46-49bf-b9b2-a3794a2b2d04"
      },
      "execution_count": 26,
      "outputs": [
        {
          "output_type": "stream",
          "name": "stdout",
          "text": [
            "1\n",
            "<class 'int'>\n",
            "hello\n",
            "<class 'str'>\n",
            "3.14\n",
            "<class 'float'>\n",
            "(1, 2)\n",
            "<class 'tuple'>\n",
            "[3, 4]\n",
            "<class 'list'>\n",
            "True\n",
            "<class 'bool'>\n",
            "7.35\n",
            "<class 'float'>\n",
            "(4+7j)\n",
            "<class 'complex'>\n",
            "100\n",
            "<class 'int'>\n",
            "world\n",
            "<class 'str'>\n"
          ]
        }
      ]
    },
    {
      "cell_type": "markdown",
      "source": [
        "**5. Using a while loop, i will verify if the number A is purely divisible by number B and if so then how many\n",
        "times it can be divisible.**"
      ],
      "metadata": {
        "id": "xzERrTy-yIQz"
      }
    },
    {
      "cell_type": "code",
      "source": [
        "A = 100\n",
        "B = 2\n",
        "count = 0 #count before division is zero\n",
        "while A%B == 0: #checking if A is completely divisible by B\n",
        " A =  A//B #by using // we get quotient in intger\n",
        " count += 1 #count will increase with every division\n",
        " \"\"\" Below The f\" before the string allows variable substitution inside {}.\n",
        "{count} automatically gets replaced with its actual value when printed.\"\"\"\n",
        "\n",
        " print(f\"This will be executed once A is completely divisible by B {count} times\")\n",
        "\n",
        "\n"
      ],
      "metadata": {
        "id": "HQRHfyC7yafJ",
        "colab": {
          "base_uri": "https://localhost:8080/"
        },
        "outputId": "ae2181a3-ae70-4e41-80b3-fa1c118c738f"
      },
      "execution_count": 27,
      "outputs": [
        {
          "output_type": "stream",
          "name": "stdout",
          "text": [
            "This will be executed once A is completely divisible by B 1 times\n",
            "This will be executed once A is completely divisible by B 2 times\n"
          ]
        }
      ]
    },
    {
      "cell_type": "markdown",
      "source": [
        "**6. Creating a list containing 25 int type data and using for loop and if-else condition to print if the element is\n",
        "divisible by 3 or not.**"
      ],
      "metadata": {
        "id": "H5FIN8pOXI8p"
      }
    },
    {
      "cell_type": "code",
      "source": [
        "#Creating a list of 25 integers\n",
        "h = [1,2,3,4,5,6,7,8,9,10,11,12,13,14,15,16,17,18,19,20,21,22,23,24,25]\n",
        "#using for loop and if-else condition to print\n",
        "for j in h:\n",
        "  print (j)\n",
        "  if j%3 == 0:\n",
        "    print(f\"Element {j} is divisible by 3\")\n",
        "    #using f\" we can find the exact jth element we are talking about\n",
        "  else:\n",
        "    print(f\"Element {j} is not divisible by 3\")\n"
      ],
      "metadata": {
        "colab": {
          "base_uri": "https://localhost:8080/"
        },
        "id": "5_b45WNCXcCP",
        "outputId": "d5fd4d46-e799-4bd9-a13c-18697af172fb"
      },
      "execution_count": 28,
      "outputs": [
        {
          "output_type": "stream",
          "name": "stdout",
          "text": [
            "1\n",
            "Element 1 is not divisible by 3\n",
            "2\n",
            "Element 2 is not divisible by 3\n",
            "3\n",
            "Element 3 is divisible by 3\n",
            "4\n",
            "Element 4 is not divisible by 3\n",
            "5\n",
            "Element 5 is not divisible by 3\n",
            "6\n",
            "Element 6 is divisible by 3\n",
            "7\n",
            "Element 7 is not divisible by 3\n",
            "8\n",
            "Element 8 is not divisible by 3\n",
            "9\n",
            "Element 9 is divisible by 3\n",
            "10\n",
            "Element 10 is not divisible by 3\n",
            "11\n",
            "Element 11 is not divisible by 3\n",
            "12\n",
            "Element 12 is divisible by 3\n",
            "13\n",
            "Element 13 is not divisible by 3\n",
            "14\n",
            "Element 14 is not divisible by 3\n",
            "15\n",
            "Element 15 is divisible by 3\n",
            "16\n",
            "Element 16 is not divisible by 3\n",
            "17\n",
            "Element 17 is not divisible by 3\n",
            "18\n",
            "Element 18 is divisible by 3\n",
            "19\n",
            "Element 19 is not divisible by 3\n",
            "20\n",
            "Element 20 is not divisible by 3\n",
            "21\n",
            "Element 21 is divisible by 3\n",
            "22\n",
            "Element 22 is not divisible by 3\n",
            "23\n",
            "Element 23 is not divisible by 3\n",
            "24\n",
            "Element 24 is divisible by 3\n",
            "25\n",
            "Element 25 is not divisible by 3\n"
          ]
        }
      ]
    },
    {
      "cell_type": "markdown",
      "source": [
        "**7. What do you understand about mutable and immutable data types? Give examples for both showing\n",
        "this property.**"
      ],
      "metadata": {
        "id": "i61kCReje-FU"
      }
    },
    {
      "cell_type": "markdown",
      "source": [
        "**MUTABLE DATA TYPE**"
      ],
      "metadata": {
        "id": "LJmRAfFZitF2"
      }
    },
    {
      "cell_type": "code",
      "source": [
        "\"\"\"Data types that can be changed after\n",
        "creation is callled MUTABLE DATA TYPE.\n",
        "A list is saved in system by creating indexing ,\n",
        "we can check different element and replace them with another\n",
        "called assignment of elements\"\"\"\n",
        "#example of mutable : list\n",
        "x = [1, \"hello\", 3.14, (1, 2), [3, 4], True, 7.35 , 4+7j,  100, \"world\"]\n"
      ],
      "metadata": {
        "id": "c7ZQx65HfSNz"
      },
      "execution_count": 29,
      "outputs": []
    },
    {
      "cell_type": "code",
      "source": [
        "#checking the element via indexing and replacing them :\n",
        "x[2]"
      ],
      "metadata": {
        "colab": {
          "base_uri": "https://localhost:8080/"
        },
        "id": "7z1F6Ll8jNv9",
        "outputId": "fcf0086b-10b1-48e7-f796-bbf881bcfbcf"
      },
      "execution_count": 30,
      "outputs": [
        {
          "output_type": "execute_result",
          "data": {
            "text/plain": [
              "3.14"
            ]
          },
          "metadata": {},
          "execution_count": 30
        }
      ]
    },
    {
      "cell_type": "code",
      "source": [
        "#now replacing it with \"dog\"\n",
        "x[2] = \"dog\""
      ],
      "metadata": {
        "id": "P6zPGuzGkAy2"
      },
      "execution_count": 31,
      "outputs": []
    },
    {
      "cell_type": "code",
      "source": [
        "#now we check our new list :\n",
        "x"
      ],
      "metadata": {
        "colab": {
          "base_uri": "https://localhost:8080/"
        },
        "id": "6BBmZCB3kPZN",
        "outputId": "169fb4a5-c95f-4043-bde7-4e71ce458994"
      },
      "execution_count": 32,
      "outputs": [
        {
          "output_type": "execute_result",
          "data": {
            "text/plain": [
              "[1, 'hello', 'dog', (1, 2), [3, 4], True, 7.35, (4+7j), 100, 'world']"
            ]
          },
          "metadata": {},
          "execution_count": 32
        }
      ]
    },
    {
      "cell_type": "markdown",
      "source": [
        "**IMMUTABLE DATA TYPE**"
      ],
      "metadata": {
        "id": "CjoDACagkghG"
      }
    },
    {
      "cell_type": "code",
      "source": [
        "\n",
        "\"\"\"Data types that can't be changed after\n",
        "creation is callled IMMUTABLE DATA TYPE\"\"\"\n",
        "#example of immutable : tuple\n",
        "y = (1,2,3,4,5,5, \"WATER\", \"SKILLS\", 34.45, False, 7+4j)\n",
        "\n"
      ],
      "metadata": {
        "id": "j4ihYQrxlugk"
      },
      "execution_count": 33,
      "outputs": []
    },
    {
      "cell_type": "code",
      "source": [
        "#now checking the element via indexing\n",
        "y[6]\n",
        "\"\"\" on trying to replace element\n",
        " this will show an error because tuple is immutable.\"\"\"\n"
      ],
      "metadata": {
        "colab": {
          "base_uri": "https://localhost:8080/",
          "height": 36
        },
        "id": "dVyla8OcmP_h",
        "outputId": "0f73e013-385e-443a-ec45-2abfaf4175d7"
      },
      "execution_count": 34,
      "outputs": [
        {
          "output_type": "execute_result",
          "data": {
            "text/plain": [
              "' on trying to replace element\\n this will show an error because tuple is immutable.'"
            ],
            "application/vnd.google.colaboratory.intrinsic+json": {
              "type": "string"
            }
          },
          "metadata": {},
          "execution_count": 34
        }
      ]
    }
  ],
  "metadata": {
    "colab": {
      "provenance": [],
      "toc_visible": true
    },
    "kernelspec": {
      "display_name": "Python 3",
      "name": "python3"
    }
  },
  "nbformat": 4,
  "nbformat_minor": 0
}